{
 "cells": [
  {
   "cell_type": "markdown",
   "metadata": {},
   "source": [
    "---\n",
    "- TOÁN ỨNG DỤNG THỐNG KÊ\n",
    "- Lớp: 22_3\n",
    "- Họ và tên: Nguyễn Minh Thiện\n",
    "- MSSV: 22120344\n",
    "- Lab 04: Đồ án Diagonalizable matrix\n",
    "---"
   ]
  },
  {
   "cell_type": "markdown",
   "metadata": {},
   "source": [
    "### Bài 1)\n",
    "### Giải thuật của thuật toán Diagonalizable matrix \n",
    "- **Bước 1:** Tìm đa thức đặc trưng $det(A − λI)$. Nếu $P_A(λ)$ có tổng các lũy thừa khác $n$ thì $A$ không chéo hóa được và kết thúc thuật toán, ngược lại chuyển sang **Bước 2**.\n",
    "- **Bước 2:** Tìm tất cả các nghiệm $λ_i$ của phương trình đa thức đặc trưng. Với mỗi trị riêng $λ_i$ tìm cơ sở và số chiều cho không gian nghiệm phương trình $(A − λI_n) X = 0$. Nếu mỗi $λ_i$ số chiều không gian nghiệm nhỏ hơn lũy thừa của $λ_i$ trong đa thức đặc trưng thì $A$ không chéo hóa được và thuật toán kết thúc, ngược lại chuyển sang **Bước 3**.\n",
    "- **Bước 3:** Với các vector trong cơ sở không gian nghiệm tìm được ở bước 2, ta đặt ma trận $P$ là ma trận có được bằng cách dựng các vector thành các cột. Khi đó ma trận $P$ làm chéo $A$ và $D = P^{−1}AP$ là ma trận đường chéo. $diag(λ_1, . . . , λ_r)$\n"
   ]
  },
  {
   "cell_type": "code",
   "execution_count": 36,
   "metadata": {},
   "outputs": [
    {
     "name": "stdout",
     "output_type": "stream",
     "text": [
      "\n",
      "---------Test 1---------\n",
      "A: \n",
      "['1', '0', '0']\n",
      "['1', '2', '0']\n",
      "['-3', '5', '2']\n",
      "\n",
      "\n",
      "Không thể chéo hóa ma trận\n",
      "\n",
      "\n",
      "---------Test 2---------\n",
      "B: \n",
      "['4', '0', '1']\n",
      "['-2', '1', '0']\n",
      "['-2', '0', '1']\n",
      "\n",
      "\n",
      "P:\n",
      "['0', '-1/2', '-1']\n",
      "['1', '1', '1']\n",
      "['0', '1', '1']\n",
      "\n",
      "\n",
      "D:\n",
      "['1', '0', '0']\n",
      "['0', '2', '0']\n",
      "['0', '0', '3']\n",
      "\n",
      "\n",
      "P^(-1):\n",
      "['0', '1', '-1']\n",
      "['2', '0', '2']\n",
      "['-2', '0', '-1']\n",
      "\n",
      "\n",
      "P*D*P^(-1) = B:\n",
      "['4', '0', '1']\n",
      "['-2', '1', '0']\n",
      "['-2', '0', '1']\n",
      "\n",
      "\n",
      "\n",
      "---------Test 3---------\n",
      "C: \n",
      "['1', '3', '3']\n",
      "['-3', '-5', '-3']\n",
      "['3', '3', '1']\n",
      "\n",
      "\n",
      "P:\n",
      "['-1', '-1', '1']\n",
      "['1', '0', '-1']\n",
      "['0', '1', '1']\n",
      "\n",
      "\n",
      "D:\n",
      "['-2', '0', '0']\n",
      "['0', '-2', '0']\n",
      "['0', '0', '1']\n",
      "\n",
      "\n",
      "P^(-1):\n",
      "['1', '2', '1']\n",
      "['-1', '-1', '0']\n",
      "['1', '1', '1']\n",
      "\n",
      "\n",
      "P*D*P^(-1) = C:\n",
      "['1', '3', '3']\n",
      "['-3', '-5', '-3']\n",
      "['3', '3', '1']\n",
      "\n",
      "\n",
      "\n",
      "---------Test 4---------\n",
      "D: \n",
      "['3', '3', '2']\n",
      "['1', '1', '-2']\n",
      "['-3', '-1', '0']\n",
      "\n",
      "\n",
      "Không thể chéo hóa ma trận\n",
      "\n"
     ]
    }
   ],
   "source": [
    "import copy\n",
    "import sympy as sp\n",
    "\n",
    "# Hàm chuyển số thực hành phân số \n",
    "# Lưu ý: Đôi khi các số như sqrt(3) ở dạng số thực thì được chuyển sang dạng phân số có kết quả xấp xỉ \n",
    "\n",
    "def float_to_fraction(x):\n",
    "    if x % 1 == 0:\n",
    "        return str(int(x))\n",
    "    saiSo = 1.0E-6\n",
    "    num, denom = 1, 1\n",
    "    decimal, sign = abs(x), -1 if x < 0 else 1\n",
    "    while abs(decimal - num/denom) > saiSo:\n",
    "        if decimal < num/denom:\n",
    "            denom += 1\n",
    "        else:\n",
    "            num += 1\n",
    "    return f\"{sign * num}/{denom}\"\n",
    "    \n",
    "\n",
    "# Hàm in ma trận\n",
    "def printMatrix(A):\n",
    "    if A is None:\n",
    "        print('\\n')\n",
    "    else:\n",
    "        for row in A:\n",
    "            print([float_to_fraction(elem) for elem in row])\n",
    "        print('\\n')\n",
    "\n",
    "# Hàm tạo ma trận đơn vị cấp n\n",
    "def createIdentityMatrix(n):\n",
    "    A=[]\n",
    "    for i in range(0,n):\n",
    "        temp=[]\n",
    "        for j in range(0,n):\n",
    "            if(i==j):\n",
    "                temp.append(1)\n",
    "            else:\n",
    "                temp.append(0)            \n",
    "        A.append(temp)\n",
    "    return A\n",
    "\n",
    "\n",
    "def inverse(A):\n",
    "    # Kiểm tra nếu ma trận A input không hợp lệ\n",
    "    for i in range(len(A)):\n",
    "        if len(A) != len(A[i]):\n",
    "            print(\"Ma trận input không vuông, không thể tìm ma trận nghịch đảo!\")\n",
    "            return None\n",
    "    \n",
    "    # Tạo ma trận đơn vị In\n",
    "    B = createIdentityMatrix(len(A))\n",
    "        \n",
    "    flag = True\n",
    "    j = 0\n",
    "    \n",
    "    # Duyệt qua từng cột của ma trận A\n",
    "    for i in range(len(A[0])):\n",
    "        k = j\n",
    "        flag = False\n",
    "        \n",
    "        # Duyệt qua từng dòng của cột đó để kiểm tra cột có giá trị khác 0 hay không\n",
    "        for l in range(j, len(A)):\n",
    "            if A[l][i] != 0:\n",
    "                flag = True\n",
    "                \n",
    "        if flag:\n",
    "            if A[k][i] == 0:\n",
    "                for z in range(k + 1, len(A)):\n",
    "                    if A[z][i] != 0:\n",
    "                        A[k], A[z] = A[z], A[k]\n",
    "                        B[k], B[z] = B[z], B[k]\n",
    "                        break\n",
    "            \n",
    "            d = (1 / A[k][i])\n",
    "            for m in range(len(A[0])):\n",
    "                A[k][m] *= d\n",
    "                B[k][m] *= d\n",
    "            \n",
    "            for k1 in range(len(A)):\n",
    "                if k1 == i:\n",
    "                    continue\n",
    "                d = -A[k1][i] / A[k][i]\n",
    "                for m in range(len(A[0])):\n",
    "                    A[k1][m] += d * A[k][m]\n",
    "                    B[k1][m] += d * B[k][m]\n",
    "            j += 1\n",
    "        else:\n",
    "            print(\"Ma trận không khả nghịch\")\n",
    "            return None\n",
    "    return B\n",
    "    \n",
    "\n",
    "def newMatrix(a,i):\n",
    "    arr = copy.deepcopy(a)\n",
    "    if len(arr) == 2:\n",
    "        return arr\n",
    "    else:\n",
    "        arr.pop(0) # Xóa dòng 0\n",
    "        for j in arr:  # Xóa cột i\n",
    "            j.pop(i)\n",
    "        return arr\n",
    "\n",
    "\n",
    "def multiMatrix(A,B):\n",
    "    if(len(A[0])!=len(B)):\n",
    "        print(\"Không thể nhân 2 ma trận\\n\")\n",
    "        return None\n",
    "    C = []\n",
    "    ans = 0\n",
    "    for i in range(len(A)):\n",
    "        tam = []\n",
    "        for j in range(len(A[0])):\n",
    "            ans = 0\n",
    "            for k in range(len(A[0])):\n",
    "                ans += A[i][k] * B[k][j]\n",
    "            tam.append(round(ans,3))\n",
    "        C.append(tam)\n",
    "    return C\n",
    "\n",
    "\n",
    "def det(A):\n",
    "    if len(A) != len(A[0]):\n",
    "        return 0\n",
    "    if len(A) == 1:\n",
    "        pro = A[0]\n",
    "        return pro\n",
    "    elif len(A) == 2:\n",
    "        pro = A[0][0]*A[1][1] - A[1][0]*A[0][1]\n",
    "        return pro\n",
    "        \n",
    "    else:\n",
    "        pro = 0\n",
    "        for i in range(len(A[0])): # Tính định thức theo dòng 0\n",
    "            pro += ((-1)**i)*A[0][i]*det(newMatrix(A,i))    \n",
    "        return pro   \n",
    "\n",
    "\n",
    "\n",
    "def diagonalMatrix(A):\n",
    "    \n",
    "    Atemp=copy.deepcopy(A)\n",
    "    \n",
    "    if len(A) != len(A[0]):\n",
    "        print(\"Không chéo hóa được do ma trận input không vuông!\\n\");\n",
    "        return None,None,None\n",
    "    x = sp.symbols('x')\n",
    "    for i in range(len(A)):\n",
    "        A[i][i]=A[i][i]-x\n",
    "    det1 = det(A)\n",
    "    eq1 = sp.Eq(det1,0)\n",
    "    sol = sp.solve(eq1)\n",
    "    \n",
    "    temp=[]\n",
    "    \n",
    "    for i in range(len(sol)):\n",
    "        if(sp.im(sol[i])!=0): # Nếu là nghiệm ảo thì bỏ qua\n",
    "            continue\n",
    "        A1=copy.deepcopy(Atemp)        \n",
    "        for j in range(len(A1)):\n",
    "            A1[j][j]=A1[j][j]-sol[i]\n",
    "        A1=sp.Matrix(A1)\n",
    "        tempA1=A1.nullspace()\n",
    "        \n",
    "        tempans=[]\n",
    "        for k in range(len(tempA1)):\n",
    "            tempNS=tempA1[k].tolist()\n",
    "            tempans=[]\n",
    "            for l in range(len(tempNS)):\n",
    "                tempans.append(tempNS[l][0])\n",
    "            temp.append(copy.deepcopy(tempans))        \n",
    "        \n",
    "    if len(temp) != len(A):\n",
    "        print(\"Không thể chéo hóa ma trận\\n\")\n",
    "        return None,None,None\n",
    "    P=[]\n",
    "    for i in range(len(temp[0])):\n",
    "        temp1=[]\n",
    "        for j in range(len(temp)):\n",
    "            temp1.append(temp[j][i])\n",
    "        P.append(temp1)\n",
    "        \n",
    "    Ptemp=copy.deepcopy(P)\n",
    "    P1=inverse(Ptemp)\n",
    "    \n",
    "    Ptemp2=multiMatrix(P1,Atemp)\n",
    "    D=multiMatrix(Ptemp2,P)\n",
    "    \n",
    "    return P, D, P1\n",
    "\n",
    "\n",
    "\n",
    "def printRes(name, A):\n",
    "    \n",
    "    print(name + \": \")\n",
    "    printMatrix(A)\n",
    "    \n",
    "    P,D,P1 = diagonalMatrix(A)\n",
    "    if P == None:\n",
    "        return\n",
    "    print(\"P:\")\n",
    "    printMatrix(P)\n",
    "    print(\"D:\")\n",
    "    printMatrix(D)\n",
    "    print(\"P^(-1):\")\n",
    "    printMatrix(P1)\n",
    "    \n",
    "    Ptemp=multiMatrix(P,D)\n",
    "    B=multiMatrix(Ptemp,P1)\n",
    "    \n",
    "    print(\"P*D*P^(-1) = \" + name + \":\")\n",
    "    printMatrix(B)\n",
    "    return\n",
    "\n",
    "A=[[1,0, 0],[1,2,0],[-3,5,2]]# Không thể chéo hóa được\n",
    "B=[[4,0,1],[-2,1,0],[-2,0,1]]\n",
    "C=[[1,3,3],[-3,-5,-3],[3,3,1]]\n",
    "D=[[3,3,2],[1,1,-2],[-3,-1,0]]# Không thể chéo hóa được\n",
    "print(\"\\n---------Test 1---------\")\n",
    "printRes('A',A)\n",
    "\n",
    "print(\"\\n---------Test 2---------\")\n",
    "printRes('B',B)\n",
    "\n",
    "print(\"\\n---------Test 3---------\")\n",
    "\n",
    "printRes('C',C)\n",
    "\n",
    "print(\"\\n---------Test 4---------\")\n",
    "printRes('D',D)\n",
    "\n",
    "   "
   ]
  },
  {
   "cell_type": "markdown",
   "metadata": {},
   "source": [
    "### Bài 2)\n",
    "### Mở rộng: Tìm hiểu các hàm/ phương thức tương ứng của các thư viện và thực hiện nó, so sánh kết quả."
   ]
  },
  {
   "cell_type": "code",
   "execution_count": 35,
   "metadata": {},
   "outputs": [
    {
     "name": "stdout",
     "output_type": "stream",
     "text": [
      "\n",
      "---------Test 1---------\n",
      "A: \n"
     ]
    },
    {
     "data": {
      "text/latex": [
       "$\\displaystyle \\left[\\begin{matrix}1 & 0 & 0\\\\1 & 2 & 0\\\\-3 & 5 & 2\\end{matrix}\\right]$"
      ],
      "text/plain": [
       "Matrix([\n",
       "[ 1, 0, 0],\n",
       "[ 1, 2, 0],\n",
       "[-3, 5, 2]])"
      ]
     },
     "metadata": {},
     "output_type": "display_data"
    },
    {
     "name": "stdout",
     "output_type": "stream",
     "text": [
      "Ma trận không thể chéo hóa được\n",
      "\n",
      "---------Test 2---------\n",
      "A: \n"
     ]
    },
    {
     "data": {
      "text/latex": [
       "$\\displaystyle \\left[\\begin{matrix}4 & 0 & 1\\\\-2 & 1 & 0\\\\-2 & 0 & 1\\end{matrix}\\right]$"
      ],
      "text/plain": [
       "Matrix([\n",
       "[ 4, 0, 1],\n",
       "[-2, 1, 0],\n",
       "[-2, 0, 1]])"
      ]
     },
     "metadata": {},
     "output_type": "display_data"
    },
    {
     "name": "stdout",
     "output_type": "stream",
     "text": [
      "P: \n"
     ]
    },
    {
     "data": {
      "text/latex": [
       "$\\displaystyle \\left[\\begin{matrix}0 & -1 & -1\\\\1 & 2 & 1\\\\0 & 2 & 1\\end{matrix}\\right]$"
      ],
      "text/plain": [
       "Matrix([\n",
       "[0, -1, -1],\n",
       "[1,  2,  1],\n",
       "[0,  2,  1]])"
      ]
     },
     "metadata": {},
     "output_type": "display_data"
    },
    {
     "name": "stdout",
     "output_type": "stream",
     "text": [
      "D: \n"
     ]
    },
    {
     "data": {
      "text/latex": [
       "$\\displaystyle \\left[\\begin{matrix}1 & 0 & 0\\\\0 & 2 & 0\\\\0 & 0 & 3\\end{matrix}\\right]$"
      ],
      "text/plain": [
       "Matrix([\n",
       "[1, 0, 0],\n",
       "[0, 2, 0],\n",
       "[0, 0, 3]])"
      ]
     },
     "metadata": {},
     "output_type": "display_data"
    },
    {
     "name": "stdout",
     "output_type": "stream",
     "text": [
      "P^(-1): \n"
     ]
    },
    {
     "data": {
      "text/latex": [
       "$\\displaystyle \\left[\\begin{matrix}0 & 1 & -1\\\\1 & 0 & 1\\\\-2 & 0 & -1\\end{matrix}\\right]$"
      ],
      "text/plain": [
       "Matrix([\n",
       "[ 0, 1, -1],\n",
       "[ 1, 0,  1],\n",
       "[-2, 0, -1]])"
      ]
     },
     "metadata": {},
     "output_type": "display_data"
    },
    {
     "name": "stdout",
     "output_type": "stream",
     "text": [
      "P*D*P^(-1) = A: \n"
     ]
    },
    {
     "data": {
      "text/latex": [
       "$\\displaystyle \\left[\\begin{matrix}4 & 0 & 1\\\\-2 & 1 & 0\\\\-2 & 0 & 1\\end{matrix}\\right]$"
      ],
      "text/plain": [
       "Matrix([\n",
       "[ 4, 0, 1],\n",
       "[-2, 1, 0],\n",
       "[-2, 0, 1]])"
      ]
     },
     "metadata": {},
     "output_type": "display_data"
    },
    {
     "name": "stdout",
     "output_type": "stream",
     "text": [
      "\n",
      "---------Test 3---------\n",
      "A: \n"
     ]
    },
    {
     "data": {
      "text/latex": [
       "$\\displaystyle \\left[\\begin{matrix}1 & 3 & 3\\\\-3 & -5 & -3\\\\3 & 3 & 1\\end{matrix}\\right]$"
      ],
      "text/plain": [
       "Matrix([\n",
       "[ 1,  3,  3],\n",
       "[-3, -5, -3],\n",
       "[ 3,  3,  1]])"
      ]
     },
     "metadata": {},
     "output_type": "display_data"
    },
    {
     "name": "stdout",
     "output_type": "stream",
     "text": [
      "P: \n"
     ]
    },
    {
     "data": {
      "text/latex": [
       "$\\displaystyle \\left[\\begin{matrix}-1 & -1 & 1\\\\1 & 0 & -1\\\\0 & 1 & 1\\end{matrix}\\right]$"
      ],
      "text/plain": [
       "Matrix([\n",
       "[-1, -1,  1],\n",
       "[ 1,  0, -1],\n",
       "[ 0,  1,  1]])"
      ]
     },
     "metadata": {},
     "output_type": "display_data"
    },
    {
     "name": "stdout",
     "output_type": "stream",
     "text": [
      "D: \n"
     ]
    },
    {
     "data": {
      "text/latex": [
       "$\\displaystyle \\left[\\begin{matrix}-2 & 0 & 0\\\\0 & -2 & 0\\\\0 & 0 & 1\\end{matrix}\\right]$"
      ],
      "text/plain": [
       "Matrix([\n",
       "[-2,  0, 0],\n",
       "[ 0, -2, 0],\n",
       "[ 0,  0, 1]])"
      ]
     },
     "metadata": {},
     "output_type": "display_data"
    },
    {
     "name": "stdout",
     "output_type": "stream",
     "text": [
      "P^(-1): \n"
     ]
    },
    {
     "data": {
      "text/latex": [
       "$\\displaystyle \\left[\\begin{matrix}1 & 2 & 1\\\\-1 & -1 & 0\\\\1 & 1 & 1\\end{matrix}\\right]$"
      ],
      "text/plain": [
       "Matrix([\n",
       "[ 1,  2, 1],\n",
       "[-1, -1, 0],\n",
       "[ 1,  1, 1]])"
      ]
     },
     "metadata": {},
     "output_type": "display_data"
    },
    {
     "name": "stdout",
     "output_type": "stream",
     "text": [
      "P*D*P^(-1) = A: \n"
     ]
    },
    {
     "data": {
      "text/latex": [
       "$\\displaystyle \\left[\\begin{matrix}1 & 3 & 3\\\\-3 & -5 & -3\\\\3 & 3 & 1\\end{matrix}\\right]$"
      ],
      "text/plain": [
       "Matrix([\n",
       "[ 1,  3,  3],\n",
       "[-3, -5, -3],\n",
       "[ 3,  3,  1]])"
      ]
     },
     "metadata": {},
     "output_type": "display_data"
    },
    {
     "name": "stdout",
     "output_type": "stream",
     "text": [
      "\n",
      "---------Test 4---------\n",
      "A: \n"
     ]
    },
    {
     "data": {
      "text/latex": [
       "$\\displaystyle \\left[\\begin{matrix}3 & 3 & 2\\\\1 & 1 & -2\\\\-3 & -1 & 0\\end{matrix}\\right]$"
      ],
      "text/plain": [
       "Matrix([\n",
       "[ 3,  3,  2],\n",
       "[ 1,  1, -2],\n",
       "[-3, -1,  0]])"
      ]
     },
     "metadata": {},
     "output_type": "display_data"
    },
    {
     "name": "stdout",
     "output_type": "stream",
     "text": [
      "P: \n"
     ]
    },
    {
     "data": {
      "text/latex": [
       "$\\displaystyle \\left[\\begin{matrix}-1 & i & - i\\\\-1 & - i & i\\\\1 & 1 & 1\\end{matrix}\\right]$"
      ],
      "text/plain": [
       "Matrix([\n",
       "[-1,  I, -I],\n",
       "[-1, -I,  I],\n",
       "[ 1,  1,  1]])"
      ]
     },
     "metadata": {},
     "output_type": "display_data"
    },
    {
     "name": "stdout",
     "output_type": "stream",
     "text": [
      "D: \n"
     ]
    },
    {
     "data": {
      "text/latex": [
       "$\\displaystyle \\left[\\begin{matrix}4 & 0 & 0\\\\0 & - 2 i & 0\\\\0 & 0 & 2 i\\end{matrix}\\right]$"
      ],
      "text/plain": [
       "Matrix([\n",
       "[4,    0,   0],\n",
       "[0, -2*I,   0],\n",
       "[0,    0, 2*I]])"
      ]
     },
     "metadata": {},
     "output_type": "display_data"
    },
    {
     "name": "stdout",
     "output_type": "stream",
     "text": [
      "P^(-1): \n"
     ]
    },
    {
     "data": {
      "text/latex": [
       "$\\displaystyle \\left[\\begin{matrix}- \\frac{1}{2} & - \\frac{1}{2} & 0\\\\\\frac{1}{4} - \\frac{i}{4} & \\frac{1}{4} + \\frac{i}{4} & \\frac{1}{2}\\\\\\frac{1}{4} + \\frac{i}{4} & \\frac{1}{4} - \\frac{i}{4} & \\frac{1}{2}\\end{matrix}\\right]$"
      ],
      "text/plain": [
       "Matrix([\n",
       "[     -1/2,      -1/2,   0],\n",
       "[1/4 - I/4, 1/4 + I/4, 1/2],\n",
       "[1/4 + I/4, 1/4 - I/4, 1/2]])"
      ]
     },
     "metadata": {},
     "output_type": "display_data"
    },
    {
     "name": "stdout",
     "output_type": "stream",
     "text": [
      "P*D*P^(-1) = A: \n"
     ]
    },
    {
     "data": {
      "text/latex": [
       "$\\displaystyle \\left[\\begin{matrix}3 & 3 & 2\\\\1 & 1 & -2\\\\-2 - 2 i \\left(\\frac{1}{4} - \\frac{i}{4}\\right) + 2 i \\left(\\frac{1}{4} + \\frac{i}{4}\\right) & -2 - 2 i \\left(\\frac{1}{4} + \\frac{i}{4}\\right) + 2 i \\left(\\frac{1}{4} - \\frac{i}{4}\\right) & 0\\end{matrix}\\right]$"
      ],
      "text/plain": [
       "Matrix([\n",
       "[                                     3,                                      3,  2],\n",
       "[                                     1,                                      1, -2],\n",
       "[-2 - 2*I*(1/4 - I/4) + 2*I*(1/4 + I/4), -2 - 2*I*(1/4 + I/4) + 2*I*(1/4 - I/4),  0]])"
      ]
     },
     "metadata": {},
     "output_type": "display_data"
    }
   ],
   "source": [
    "import sympy as sp\n",
    "\n",
    "def print_ans_lib(A):\n",
    "    print(\"A: \")\n",
    "    display(A)\n",
    "    \n",
    "    try:\n",
    "        P, D = A.diagonalize()\n",
    "        print(\"P: \")\n",
    "        display(P)\n",
    "        print(\"D: \")\n",
    "        display(D)\n",
    "        P_inv = P.inv()\n",
    "        print(\"P^(-1): \")\n",
    "        display(P_inv)\n",
    "        print(\"P*D*P^(-1) = A: \")\n",
    "        display(P * D * P_inv)\n",
    "    except Exception as e:\n",
    "        print(f\"Ma trận không thể chéo hóa được\")\n",
    "\n",
    "print(\"\\n---------Test 1---------\")\n",
    "A1 = sp.Matrix([[1, 0, 0], [1, 2, 0], [-3, 5, 2]])# Không thể chéo hóa được\n",
    "print_ans_lib(A1)\n",
    "\n",
    "print(\"\\n---------Test 2---------\")\n",
    "A2 = sp.Matrix([[4,0,1],[-2,1,0],[-2,0,1]])\n",
    "print_ans_lib(A2)\n",
    "\n",
    "print(\"\\n---------Test 3---------\")\n",
    "A3 = sp.Matrix([[1,3,3],[-3,-5,-3],[3,3,1]])\n",
    "print_ans_lib(A3)\n",
    "\n",
    "print(\"\\n---------Test 4---------\")\n",
    "A4 = sp.Matrix([[3,3,2],[1,1,-2],[-3,-1,0]])# Không thể chéo hóa được\n",
    "print_ans_lib(A4)\n"
   ]
  },
  {
   "cell_type": "markdown",
   "metadata": {},
   "source": [
    "### Bài 2\n",
    "### Mở rộng: Tìm hiểu các hàm/ phương thức tương ứng của các thư viện và thực hiện nó, so sánh kết quả."
   ]
  },
  {
   "cell_type": "markdown",
   "metadata": {},
   "source": [
    "---"
   ]
  },
  {
   "cell_type": "markdown",
   "metadata": {},
   "source": [
    "### Nhận xét:\n",
    "**Đối với hàm diagonalMatrix tự định nghĩa:**\n",
    "- Đối với trường hợp ma trận $A$ có thể chéo hóa được, hàm diagonalMatrix trả về ma trận làm chéo $P$, ma trận đường chéo $D$ và ma trận $P^{-1}$. Khi thực hiện $PDP^{-1}$ ta thấy kết quả rõ ràng $PDP^{-1} = A$.\n",
    "- Đối với trường hợp ma trận $A$ không thể chéo hóa được, hàm diagonalMatrix thông báo lỗi, trả về ba giá trị $None$ thay cho ma trận làm chéo $P$, ma trận đường chéo $D$ và ma trận $P^{-1}$ rồi kết thúc hàm.\n",
    "\n",
    "**Đối với hàm diagonalize của thư viện sympy:**\n",
    "- Đối với trường hợp ma trận $A$ có thể chéo hóa được, hàm diagonalize của thư viện sympy trả về ma trận làm chéo $P$ và ma trận đường chéo $D$, ta tìm $P^{-1}$ bằng hàm inv của thư viện sympy. Khi thực hiện $PDP^{-1}$ ta thấy kết quả rõ ràng $PDP^{-1} = A$.\n",
    "- Đối với trường hợp ma trận $A$ không thể chéo hóa được, hàm diagonalize của thư viện sympy sẽ ném ra một ngoại lệ (thường là NonSquareMatrixError hoặc MatrixError)\n",
    "* Trường hợp này, SymPy sẽ thông báo lỗi rằng ma trận không thể chéo hóa, và sẽ không trả về ma trận $P$ và $D$.\n",
    "\n",
    "**Nhận xét, so sánh kết quả:**\n",
    "- Đối với trường hợp ma trận $A$ (A là đại diện cho các ma trận khác) có thể chéo hóa được, hàm diagonalize của thư viện sympy chỉ trả về ma trận làm chéo $P$ và ma trận đường chéo $D$, còn hàm diagonalMatrix tự định nghĩa trả về ma trận làm chéo $P$, ma trận đường chéo $D$ và cả ma trận $P^{-1}$. Tuy nhiên, khi thực hiện $PDP^{-1}$ thì hai hàm đều cho ra kết quả giống nhau và $PDP^{-1} = A$.\n",
    "\n",
    "- Đối với trường hợp ma trận $A$ không thể chéo hóa được, hàm diagonalize của thư viện sympy sẽ ném ra một ngoại lệ. Tuy nhiên, ở test case 1 và test case 4 dù cả 2 là ma trận không chéo hóa được nhưng test case 4 không bị thông báo lỗi và vẫn xuất ra kết quả bình thường. Từ đó suy ra một số trường hợp, hàm diagonalize của SymPy vẫn trả về ma trận $P$ và $D$ do số lượng vector riêng độc lập không đủ để chéo hóa ma trận. Kết quả tính $PDP^{-1} có thể không bằng $A$."
   ]
  },
  {
   "cell_type": "markdown",
   "metadata": {},
   "source": [
    "----"
   ]
  },
  {
   "cell_type": "markdown",
   "metadata": {},
   "source": [
    "### Mở rộng: Tìm hiểu và trình bày ứng dụng của chéo hóa\n",
    "Một số ứng dụng của chéo hóa ma trận như sau:\n",
    "\n",
    "- **1) Lý thuyết điều khiển:** Các ma trận chéo hóa được sử dụng trong lý thuyết điều khiển để thiết kế hệ thống điều khiển phản hồi. Hình dạng đường chéo của một ma trận làm cho nó dễ dàng phân tích tính ổn định và hiệu suất của hệ thống.\n",
    "\n",
    "- **2) Tìm trị riêng và vector riêng:** trị riêng và vector riêng của một ma trận có thể được sử dụng để xác định xem một ma trận có thể chéo hóa hay không. Nếu một ma trận có n vector riêng độc lập tuyến tính, thì nó có thể chéo hóa.\n",
    "\n",
    "- **3) Biến đổi cơ sở:** Các ma trận chéo hóa có thể được sử dụng để biến đổi một cơ sở của không gian vector thành một cơ sở mới. Việc này hữu ích trong các ứng dụng khác nhau, bao gồm xử lý tín hiệu và nén ảnh.\n",
    "\n",
    "- **4) Phương trình vi phân:** Các ma trận chéo hóa được sử dụng để giải các hệ phương trình vi phân tuyến tính. Giải pháp cho một hệ phương trình vi phân tuyến tính có thể được biểu diễn dưới dạng các vector riêng và giá trị riêng của ma trận tương ứng.\n",
    "\n",
    "- **5) Tính lũy thừa của ma trận:** bằng việc chéo hóa một ma trận, việc tính lũy thừa một ma trận trở nên dễ dàng hơn, đặc biệt đối với yêu cầu lũy thừa lớn. Sau khi tìm được ma trận $P$ làm chéo $A$ và $D = P^{−1}AP$ là ma trận đường chéo, việc tính $A^n$ chỉ đơn giản là tính $PD^{n}P^{−1}$, mà $D$ là ma trận đường chéo nên chỉ cận thực hiện lũy thừa $n$ các phần tử trên đường chéo của ma trận $D$\n",
    "\n",
    "- **6) Phân tích dữ liệu:** Trong phân tích dữ liệu, các ma trận đường chéo hóa được sử dụng trong phân tích thành phần chính (PCA), đó là một kỹ thuật được sử dụng để giảm chiều của một tập dữ liệu. PCA bao gồm tìm các vector riêng và giá trị riêng của ma trận hiệp phương sai của tập dữ liệu.\n",
    "\n",
    "- **7) Cơ học lượng tử:** Trong cơ học lượng tử, các ma trận chéo hóa được sử dụng để biểu diễn toán tử Hamiltonian, mô tả năng lượng của một hệ thống lượng tử. Các giá trị riêng và vector riêng của toán tử Hamiltonian được sử dụng để xác định các cấp năng lượng và hàm sóng của hệ thống.\n",
    "\n",
    "Tóm lại, ma trận chéo hóa có nhiều ứng dụng quan trọng trong các lĩnh vực khác nhau như toán học, vật lý, kỹ thuật và khoa học máy tính,..."
   ]
  },
  {
   "cell_type": "markdown",
   "metadata": {},
   "source": [
    "-----"
   ]
  },
  {
   "cell_type": "markdown",
   "metadata": {},
   "source": [
    "####  Mô tả ý tưởng thực hiện và mô tả các hàm: \n",
    "**1) Các thư viện hỗ trợ:** trong đồ án này có dùng một số hàm của các thư viện copy và sympy để hỗ trợ các chức năng không chủ yếu trong quá trình thực hiện đồ án.\n",
    "- Thư viện sympy:\n",
    "    + Hàm Eq: đưa đa thức đặc trưng về phương trình đặc trưng để dùng thư viện sympy để giải phương trình này\n",
    "    + Hàm symbols: dùng để đưa biến x vào phương trình đặc trưng để giải\n",
    "    + Hàm tolist(): chuyển Matrix sang list\n",
    "    + Hàm solve: giải phương trình đặc trưng và trả về các nghiệm\n",
    "    + Hàm Matrix: tạo ma trận để dùng các thư viện hỗ trợ tìm vector riêng\n",
    "    + Hàm nullspace: hỗ trợ tìm vector riêng\n",
    "    + Hàm im: phần ảo của các nghiệm sau khi giải phương trình đặc trưng, nếu phần ảo khác 0 thì đó là nghiệm phức\n",
    "- Thư viện copy:\n",
    "    + Hàm deepcopy: tạo ra bản sao các ma trận, các vector,..\n",
    "    \n",
    "\n",
    "**2) Hàm float_to_fraction(x):** Chuyển đổi một số thực thành phân số. Nếu số thực là một số nguyên, hàm sẽ trả về số nguyên đó. Đôi khi các số như sqrt(3),... ở dạng số thực thì hàm sẽ tìm phân số gần nhất với số thực đó.\n",
    "\n",
    "**3) Hàm printMatrix(A):** Duyệt qua từng hàng của ma trận A và in ra màn hình. Nếu A là None, in dòng trống.\n",
    "\n",
    "**4) Hàm createIdentityMatrix(n):** tham số truyền vào là số nguyên n, hàm sẽ tạo ra ma trận đơn vị cấp n\n",
    "\n",
    "**5) Hàm inverse(A):** truyền vào là một ma trận, hàm dùng để tìm ma trận nghịch đảo của một ma trận vuông cấp n\n",
    "- B1: Đầu tiên, kiểm tra ma trận truyền vào có vuông hay không, nếu không vuông thì kết thúc hàm\n",
    "- B2: Nếu ma trận input là ma trận vuông cấp n, tiến hành khởi tạo một ma trận đơn vị B cấp n bằng hàm createIdentityMatrix\n",
    "- B3: Duyệt qua từng cột của ma trận input, nếu cột đang xét có phần tử nằm từ đường chéo chính trở xuống đều bằng 0 thì kết thúc hàm, thông báo ma trận không khả nghịch, ngược lại thì thực hiện các bước sau:\n",
    "    + Kiểm tra nếu phần tử nằm trên đường chéo chính bằng không thì hoán vị dòng chứa phần tử này với dòng có phần tử ở cột tương ứng khác 0 gần nhất với dòng đang xét. Việc này được thực hiện cùng lúc ở ma trận input và ma trận đơn vị B đã tạo ra trước đó.\n",
    "    + Nhân dòng đang xét của ma trận input và dòng tương ứng của ma trận đơn vị B với 1/(phần tử ở đường chéo chính của ma trận input).\n",
    "    + Cộng các dòng còn lại của ma trận input và cả ma trận đơn vị B (trừ dòng chứa phần tử nằm trên đường chéo chính) với một số thích hợp để biến các phần tử ở cột đang xét của ma trận input đều bằng 0.\n",
    "    + Lặp lại B3\n",
    "- B4: Ma trận đơn vị B được tạo ra ở B2 sau khi thực hiện cả 3 bước trên sẽ là ma trận nghịch đảo của ma trận input, hàm sẽ trả về ma trận B\n",
    "\n",
    "**6) Hàm multiMatrix(A,B):** hàm nhân hai ma trận, với input là ma trận A và B, Hàm sẽ kiểm tra xem số cột của A có bằng số hàng của B hay không. Nếu có, thực hiện phép nhân ma trận. Nếu không, in thông báo lỗi và trả về None.\n",
    "\n",
    "**7) Hàm newMatrix(a,i):** input là ma trận vuông A và số nguyên i. Nếu A là ma trận vuông cấp 2 thì trả về ma trận A, ngược lại hàm tạo ra một ma trận mới bỏ đi dòng 0 và cột i và trả về ma trận này (hàm hỗ trợ tìm định thức của ma trận trong hàm det(A)).\n",
    "\n",
    "**8) Hàm det(A):** hàm tính định thức của ma trận\n",
    "- Input: ma trận vuông A cấp n\n",
    "- B1: Kiểm tra ma trận A có là ma trận vuông hay không, nếu không thì trả về số nguyên 0 và kết thúc hàm, ngược lại thì tiếp tục sang B2\n",
    "- B2: Nếu A là ma trận vuông cấp 1, trả về A[0][0] (là định thức của ma trận) và kết thúc hàm, ngược lại thì tiếp tục sang B3\n",
    "- B3: Nếu A là ma trận vuông cấp 2, trả về A[0][0] * A[1][1] - A[1][0] * A[0][1] là định thức của ma trận và kết thúc hàm, ngược lại thì tiếp tục sang B4\n",
    "- B4: Dùng công thức $\\sum_{k=0}^{n-1} a_{0k}C_{0k} (1)$ để tính định thức theo dòng 0, cộng dồn vào biến pro. Ý tưởng thực hiện: cho một vòng for i duyệt qua các cột của ma trận, gọi đệ quy hàm det(X) với X là ma trận input mỗi lần gọi là ma trận hiện tại bỏ dòng 0 cột i hoặc chính ma trận hiện tại nếu đang là ma trận vuông cấp 2 (dùng hàm newMatrix) nhân với $-1^{0+i} * A[0][i]$ theo đúng công thức $(1)$ và trả về pro là định thức của ma trận\n",
    "\n",
    "**9) Hàm diagonalMatrix:** input là ma trận vuông A cấp n, hàm tìm và trả về ma trận làm chéo $P$, ma trận đường chéo $D$ và ma trận $P^{-1}$.\n",
    "- B1: Đầu tiên dùng hàm copy.deepcopy tạo một bản sao của A và lưu vào Atemp (có thêm tài nguyên để tính toán), kiểm tra ma trận có vuông hay không, nếu ma trận không vuông thì trả về 3 giá trị None và kết thúc hàm, ngược lại sang B2\n",
    "- B2: Khởi tạo biến x bằng hàm sympy.symbol để đưa vào đa thức đặc trưng (biến x đại diện cho $λ$)\n",
    "- B3: Dùng vòng for xây dựng ma trận $A − xI_n$ và lưu vào A\n",
    "- B4: Tính định thức ma trận A bằng hàm det(A) và lưu vào det1\n",
    "- B5: Chuyển det1 thành phương trình đặc trưng bằng hàm sympy.Eq và lưu vào eq1\n",
    "- B6: Giải phương trình eq1 bằng hàm sympy.solve và lưu các nghiệm vào sol\n",
    "- B7: Chạy vòng for xét từng nghiệm trong sol, với mỗi nghiệm dùng hàm sympy.im để tìm phần ảo của nghiệm, nếu phần ảo khác 0 thì là nghiệm phức, ta không làm gì cả và tiếp tục tăng biến đếm vòng for (continue), ngược lại thực hiện các bước sau:\n",
    "    + B7.1: Tạo ra một bản copy của Atemp bằng hàm copy.deepcopy (do A ban đầu đã bị thay đổi do đã đưa biến x vào ma trận để tính định thức) và lưu vào A1\n",
    "    + B7.2: Với nghiệm $x_i$ đang xét dùng vòng for để xây dựng ma trận $A1 − x_iI_n$ và lưu vào A1. Sau đó chuyển A sang dạng sympy.Matrix\n",
    "    + B7.3: Với $x_i$, tìm các vector riêng của $(A − x_iI_n) X = 0$ bằng hàm sympy.Matrix.nullspace, sau đó chuyển các vector riêng này từ kiểu sympy.Matrix sang list bằng sympy.Matrix.tolist (tiện hơn cho việc tính toán về sau)\n",
    "- B8: Kiểm tra nếu số lượng vector riêng khác cấp n của ma trận input thì trả về 3 giá trị None và kết thúc hàm, ngược lại sang B9\n",
    "- B9: Tạo ma trận làm chéo $P$ là ma trận có được bằng cách dựng các vector riêng thành các cột và đưa vào $P$.\n",
    "- B10: Sao chép $P$ và lưu vào Ptemp bằng hàm copy.deepcopy. Tìm $P^{-1}$ bằng hàm inverse và lưu vào $P1$\n",
    "- B11: Tìm ma trận đường chéo D bằng cách nhân $P1 * Atemp * P$ Đầu tiên thực hiện nhân $P1 * Atemp$ bằng hàm multiMatrix và lưu vào $Ptemp2$, sau đó thực hiện nhân $Ptemp2 * P$ bằng hàm multiMatrix và lưu vào D\n",
    "- B12: Trả về $P, D, P1$ tương ứng với ma trận làm chéo $P$, ma trận đường chéo $D$ và ma trận $P^{-1}$\n",
    "\n",
    "**10) Hàm printRes:** hàm in kết quả test chương trình chính (chương trình dùng hàm diagonalMatrix), input là ma trận A\n",
    "- B1: In ra ma trận A bằng hàm printMatrix\n",
    "- B2: Tìm ma trận làm chéo $P$, ma trận đường chéo $D$ và ma trận $P^{-1}$ bằng hàm diagonalMatrix\n",
    "- B3: Nếu sau khi thực hiện hàm diagonalMatrix mà $P = None$ nghĩa là ma trận A không chéo hóa được và kết thúc hàm, ngược lại chuyển sang B4\n",
    "- B4: In ra ma trận $P, D, P^{-1}$ sau khi thực hiện hàm diagonalMatrix (in bằng hàm printMatrix)\n",
    "- B5: Thực hiện tính và in ra $PDP^{-1}$ bằng các hàm multiMatrix (tính $P * D$ trước và lưu vào $Ptemp$, sau đó tính $Ptemp * P^{-1}$) và printMatrix để kiểm tra $PDP^{-1} = A$.\n",
    "\n",
    "**11) Hàm print_ans_lib:** hàm in kết quả test chương trình mở rộng (chương trình dùng hàm sympy.Matrix.diagonalize), input là ma trận A kiểu sympy.Matrix\n",
    "- B1: In ra ma trận A bằng hàm display\n",
    "- B2: Tìm ma trận làm chéo $P$ và ma trận đường chéo $D$ bằng hàm sympy.Matrix.diagonalize, in ra màn hình $P$ và $D$ bằng hàm display\n",
    "- B3: Tìm $P^{-1}$ bằng hàm sympy.Matrix.inv và in ra màn hình $P^{-1}$ bằng hàm display\n",
    "- B4: Tính và in ra màn hình $PDP^{-1}$ bằng toán tử $*$ và hàm display để kiểm tra $PDP^{-1} = A$.\n",
    "* Mục đích chính của try-catch: Để bắt, xử lý các ngoại lệ (exceptions) có thể xảy ra trong quá trình thực hiện chéo hóa ma trận. Điều này giúp ngăn chương trình bị dừng đột ngột và cung cấp thông tin cụ thể về lỗi cho người dùng."
   ]
  },
  {
   "cell_type": "markdown",
   "metadata": {},
   "source": [
    "----"
   ]
  }
 ],
 "metadata": {
  "kernelspec": {
   "display_name": "Python 3",
   "language": "python",
   "name": "python3"
  },
  "language_info": {
   "codemirror_mode": {
    "name": "ipython",
    "version": 3
   },
   "file_extension": ".py",
   "mimetype": "text/x-python",
   "name": "python",
   "nbconvert_exporter": "python",
   "pygments_lexer": "ipython3",
   "version": "3.11.9"
  }
 },
 "nbformat": 4,
 "nbformat_minor": 2
}
